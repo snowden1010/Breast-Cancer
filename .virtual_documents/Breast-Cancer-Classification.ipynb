








# Importing necessary Libraries

import pandas as pd
import numpy as np
import matplotlib.pyplot as plt
import seaborn as sns
import sklearn as sk

from sklearn.datasets import load_breast_cancer
from sklearn.preprocessing import StandardScaler
from sklearn.decomposition import PCA
from sklearn.model_selection import train_test_split
from sklearn.linear_model import LogisticRegression
from sklearn.metrics import accuracy_score, confusion_matrix, recall_score, f1_score, precision_score

from helper_functions.helper_functions import evaluate_model























cancer = load_breast_cancer()

df = pd.DataFrame(cancer.data, columns=cancer.feature_names)
df["diagnosis"] = cancer.target


#printing the Data is important here, you can try not printing it! 
print(cancer.DESCR)
#cancer.DESCR


# or even better use Markdown to display it nicer

from IPython.display import Markdown

Markdown(cancer.DESCR)


cancer.target_names

















#first let's see first 5 rows
df.head()


# to see all the columns we would need to configure pandas to show all columns

pd.set_option("display.max_columns", None)

# now we can see all columns
df.head()


df.describe()


mean, median = pd.DataFrame([df.mean(), df.median()], index=["Mean", "Median"]).sum(axis=1)
mean, median





absolute_difference = np.abs(mean - median)

average_sum = (mean + median) / 2

percentage_difference = absolute_difference * 100/(average_sum)

print(f"Percentage Difference: {percentage_difference:.2f}%")


df.info()






df.groupby(["diagnosis"])["mean radius"].max()


df.groupby(["diagnosis"])["worst radius"].max()


diagnosis_count = df["diagnosis"].value_counts()
diagnosis_count


target_map = ["Benign", "Malignant"]

targeted = {
    0: "M:Cancerous",
    1:"B:Non-Cancerous"
}


plt.bar(x = target_map, height=diagnosis_count, color=["teal", "red"])
plt.title("Bening & Malignant Total Diagnosis")
plt.ylabel("Patient Diagnosed")
plt.show()


# propotions of diagnosis, we notice that, 63% are Benign, and that the Data isn't Balanced
df["diagnosis"].value_counts(normalize=True) * 100








df_features = df.drop("diagnosis", axis=1)



num_features = df_features.shape[1]
n_cols = 5
n_rows = (num_features + n_cols - 1) // n_cols

fig, axes = plt.subplots(n_rows, n_cols, figsize=(n_cols * 4.5, n_rows * 3.5))
axes = axes.flatten() # Flatten the 2D array of axes for easy iteration

# Loop through each feature and plot its histogram
for i, feature_name in enumerate(df_features.columns):
    ax = axes[i]
    sns.histplot(df_features[feature_name], kde=True, ax=ax, bins=30)
    ax.set_title(f'Distribution of {feature_name}', fontsize=10)
    ax.set_xlabel('')
    ax.set_ylabel('')


plt.tight_layout()
plt.suptitle('Histograms of Breast Cancer Dataset Features', y=1.02, fontsize=16)
plt.savefig("images/BC-histograms.png", transparent=True)

plt.show()








# Let's map our diagnosis columns 0 to Malignant and 1 to Benign
df["diagnosis"] = df["diagnosis"].map({0:cancer.target_names[0],1:cancer.target_names[1]})
df["diagnosis"].head(10)


fig, axes = plt.subplots(n_rows, n_cols, figsize=(n_cols*3, n_rows*4))

axes = axes.flatten()

for i, feature_name in enumerate(df_features.columns):
    ax = axes[i]
    
    sns.boxplot(x='diagnosis', y=feature_name, hue="diagnosis", data=df, ax=ax, palette="viridis")
    ax.set_title(f"{feature_name} by Diagnosis", fontsize=10)
    ax.set_xlabel('')
    ax.set_ylabel('')


plt.tight_layout(rect=[0, 0.3, 1, 0.98])
plt.suptitle('Feature Distributions by Breast Cancer Diagnosis', y=1.00, fontsize=16)
plt.savefig("images/Feature-Distributions-by-Breast-Cancer-Diagnosis.png", transparent=True)
plt.show()








correlation_matrix = df_features.corr()

plt.figure(figsize=(24, 24))
sns.heatmap(correlation_matrix, annot=True, cmap="coolwarm", fmt=".2f", linewidths=.5, cbar_kws={'shrink':0.8})
plt.title("Correlation Matrix of Breast Cancer Dataset Features", fontsize=20)
plt.xticks(rotation=90)
plt.yticks(rotation=0)
plt.savefig("images/Correlation-Matrix-of-Breast-Cancer-Dataset-Features.png")
plt.show()


df_target = df["diagnosis"]

X = df_features
y = df_target



scaler = StandardScaler()
X_scaled = scaler.fit_transform(X)

pca = PCA(n_components=2)
principal_components = pca.fit_transform(X_scaled)


pc_df = pd.DataFrame(data=principal_components, columns=["principal componenet 1","principal componenet 2"])

pca_df = pd.concat([pc_df, df_target], axis=1)



plt.figure(figsize=(20, 10))
sns.scatterplot(data=pca_df, hue="diagnosis", x="principal componenet 1", y="principal componenet 2", palette="viridis", alpha=0.8, size=80)
plt.title("2D PCA of Breast Cancer Dataset (colored by Diagnosis)", fontsize=20)
plt.xlabel(f"Principal Component 1:  {pca.explained_variance_ratio_[0] *100 :.3f}% variance")
plt.ylabel(f"Principal Componenet 2:  {pca.explained_variance_ratio_[1]*100 :.3f}% variance")
plt.grid(True)
plt.savefig("images/2D PCA of Breast Cancer Dataset (colored by Diagnosis).png", transparent=True)
plt.show()















































y = y.map({"malignant" : 0, "benign": 1})


X_train, X_test, y_train, y_test = train_test_split(X,y, test_size=0.2, random_state=42, stratify=y)



scaler1 = StandardScaler()

X_train_scaled = scaler1.fit_transform(X_train)
X_test_scaled = scaler1.transform(X_test)

print(f"X_train shape: {X_train.shape} | X_train_scaled shape: {X_train_scaled.shape}\nX_test shape: {X_test_scaled.shape} | X_test_scaled shape {X_test_scaled.shape}")



print(f"y_train shape: {y_train.shape} | y_test shape: {y_test.shape}")








lr_model = LogisticRegression(random_state=42, max_iter=1000)
lr_model.fit(X_train_scaled, y_train)























from helper_functions.helper_functions import evaluate_model

lr_model_profile = evaluate_model(lr_model, "Logistic Regression Model N 00", X_test_scaled, y_test)
lr_model_profile


y_pred = lr_model.predict(X_test_scaled)
lr_model_confusion_matrix = confusion_matrix(y_test,y_pred)


conf_mat = pd.DataFrame(lr_model_confusion_matrix, columns=["Malignant", "Benign"], index=["Malignant", "Beningn"])
conf_mat


print("0 corresponds to:", cancer.target_names[0])
print("1 corresponds to:", cancer.target_names[1])


plt.figure(figsize=(6, 4))
sns.heatmap(data=conf_mat, annot=True, cmap="viridis")
plt.title("Confusion Matrix LR model", fontsize=10)
plt.xlabel("Predicted Label")
plt.ylabel("Actual Label", rotation=90)
plt.show()












